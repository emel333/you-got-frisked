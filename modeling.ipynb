{
 "cells": [
  {
   "cell_type": "code",
   "execution_count": 794,
   "metadata": {},
   "outputs": [],
   "source": [
    "import numpy as np\n",
    "import pandas as pd\n",
    "from sklearn.dummy import DummyClassifier\n",
    "from sklearn.model_selection import train_test_split, GridSearchCV, cross_val_score\n",
    "from sklearn.preprocessing import StandardScaler\n",
    "\n",
    "# ---\n",
    "\n",
    "from sklearn.neighbors import KNeighborsClassifier\n",
    "from sklearn.ensemble import RandomForestClassifier, BaggingClassifier\n",
    "from sklearn.pipeline import Pipeline\n",
    "\n",
    "# ---\n",
    "\n",
    "import matplotlib.pyplot as plt\n",
    "from sklearn.tree import DecisionTreeClassifier \n",
    "from sklearn.metrics import accuracy_score, roc_curve, auc, confusion_matrix, classification_report\n",
    "from sklearn.metrics import precision_score, recall_score, f1_score\n",
    "from sklearn.metrics import roc_auc_score\n",
    "from sklearn import tree\n",
    "\n",
    "# ---\n",
    "\n",
    "from sklearn.datasets import make_classification\n",
    "from sklearn.metrics import plot_confusion_matrix\n",
    "import statsmodels.discrete.discrete_model as sm\n",
    "\n",
    "# ---\n",
    "\n",
    "import six\n",
    "import sys\n",
    "sys.modules['sklearn.externals.six'] = six\n",
    "\n",
    "from imblearn.over_sampling import SMOTE\n",
    "from imblearn.under_sampling import RandomUnderSampler\n",
    "from imblearn.pipeline import make_pipeline\n",
    "\n",
    "# ---\n",
    "\n",
    "from sklearn.linear_model import LogisticRegression\n",
    "\n",
    "# ---\n",
    "\n",
    "import xgboost as xgb\n",
    "from xgboost import plot_tree\n",
    "import warnings\n",
    "warnings.filterwarnings('ignore')\n",
    "%matplotlib inline"
   ]
  },
  {
   "cell_type": "code",
   "execution_count": null,
   "metadata": {},
   "outputs": [],
   "source": []
  },
  {
   "cell_type": "code",
   "execution_count": 213,
   "metadata": {},
   "outputs": [],
   "source": [
    "data = pd.read_csv('stops.csv')\n",
    "target = pd.read_csv('labels.csv')"
   ]
  },
  {
   "cell_type": "code",
   "execution_count": 216,
   "metadata": {},
   "outputs": [
    {
     "data": {
      "text/plain": [
       "Frisk Flag\n",
       "N             34660\n",
       "Y             10058\n",
       "-               478\n",
       "dtype: int64"
      ]
     },
     "execution_count": 216,
     "metadata": {},
     "output_type": "execute_result"
    }
   ],
   "source": [
    "target.value_counts()"
   ]
  },
  {
   "cell_type": "code",
   "execution_count": 16,
   "metadata": {},
   "outputs": [],
   "source": [
    "labels['Frisk_Flag'] = labels['Frisk Flag']"
   ]
  },
  {
   "cell_type": "code",
   "execution_count": 17,
   "metadata": {},
   "outputs": [],
   "source": [
    "labels = labels.drop('Frisk Flag', axis=1)"
   ]
  },
  {
   "cell_type": "code",
   "execution_count": 18,
   "metadata": {},
   "outputs": [],
   "source": [
    "for i in labels['Frisk_Flag']:\n",
    "    if i == 'Y':\n",
    "        labels['Frisk_Flag'] = labels['Frisk_Flag'].replace(i, 1)\n",
    "    if i == 'N':\n",
    "        labels['Frisk_Flag'] = labels['Frisk_Flag'].replace(i, 0)\n",
    "    if i == '-':\n",
    "        labels['Frisk_Flag'] = labels['Frisk_Flag'].replace('-', 1)"
   ]
  },
  {
   "cell_type": "code",
   "execution_count": 259,
   "metadata": {},
   "outputs": [
    {
     "data": {
      "text/html": [
       "<div>\n",
       "<style scoped>\n",
       "    .dataframe tbody tr th:only-of-type {\n",
       "        vertical-align: middle;\n",
       "    }\n",
       "\n",
       "    .dataframe tbody tr th {\n",
       "        vertical-align: top;\n",
       "    }\n",
       "\n",
       "    .dataframe thead th {\n",
       "        text-align: right;\n",
       "    }\n",
       "</style>\n",
       "<table border=\"1\" class=\"dataframe\">\n",
       "  <thead>\n",
       "    <tr style=\"text-align: right;\">\n",
       "      <th></th>\n",
       "      <th>Frisk_Flag</th>\n",
       "    </tr>\n",
       "  </thead>\n",
       "  <tbody>\n",
       "    <tr>\n",
       "      <th>0</th>\n",
       "      <td>0</td>\n",
       "    </tr>\n",
       "    <tr>\n",
       "      <th>1</th>\n",
       "      <td>0</td>\n",
       "    </tr>\n",
       "    <tr>\n",
       "      <th>2</th>\n",
       "      <td>1</td>\n",
       "    </tr>\n",
       "    <tr>\n",
       "      <th>3</th>\n",
       "      <td>0</td>\n",
       "    </tr>\n",
       "    <tr>\n",
       "      <th>4</th>\n",
       "      <td>0</td>\n",
       "    </tr>\n",
       "    <tr>\n",
       "      <th>...</th>\n",
       "      <td>...</td>\n",
       "    </tr>\n",
       "    <tr>\n",
       "      <th>45191</th>\n",
       "      <td>0</td>\n",
       "    </tr>\n",
       "    <tr>\n",
       "      <th>45192</th>\n",
       "      <td>0</td>\n",
       "    </tr>\n",
       "    <tr>\n",
       "      <th>45193</th>\n",
       "      <td>0</td>\n",
       "    </tr>\n",
       "    <tr>\n",
       "      <th>45194</th>\n",
       "      <td>0</td>\n",
       "    </tr>\n",
       "    <tr>\n",
       "      <th>45195</th>\n",
       "      <td>0</td>\n",
       "    </tr>\n",
       "  </tbody>\n",
       "</table>\n",
       "<p>45196 rows × 1 columns</p>\n",
       "</div>"
      ],
      "text/plain": [
       "       Frisk_Flag\n",
       "0               0\n",
       "1               0\n",
       "2               1\n",
       "3               0\n",
       "4               0\n",
       "...           ...\n",
       "45191           0\n",
       "45192           0\n",
       "45193           0\n",
       "45194           0\n",
       "45195           0\n",
       "\n",
       "[45196 rows x 1 columns]"
      ]
     },
     "execution_count": 259,
     "metadata": {},
     "output_type": "execute_result"
    }
   ],
   "source": [
    "labels"
   ]
  },
  {
   "cell_type": "code",
   "execution_count": 355,
   "metadata": {},
   "outputs": [],
   "source": [
    "X_train, X_test, y_train, y_test = train_test_split(data, labels, test_size=0.30, random_state=42)"
   ]
  },
  {
   "cell_type": "code",
   "execution_count": null,
   "metadata": {},
   "outputs": [],
   "source": [
    "\n"
   ]
  },
  {
   "cell_type": "code",
   "execution_count": 356,
   "metadata": {},
   "outputs": [
    {
     "data": {
      "text/plain": [
       "DummyClassifier(strategy='stratified')"
      ]
     },
     "execution_count": 356,
     "metadata": {},
     "output_type": "execute_result"
    }
   ],
   "source": [
    "dummy_clf = DummyClassifier(strategy = 'stratified')\n",
    "dummy_clf.fit(X_train, y_train)"
   ]
  },
  {
   "cell_type": "code",
   "execution_count": 357,
   "metadata": {},
   "outputs": [
    {
     "name": "stdout",
     "output_type": "stream",
     "text": [
      "[0 1]\n"
     ]
    }
   ],
   "source": [
    "dum_predictor = dummy_clf.predict(X_test)\n",
    "print(np.unique(dum_predictor))"
   ]
  },
  {
   "cell_type": "code",
   "execution_count": 358,
   "metadata": {},
   "outputs": [
    {
     "data": {
      "text/plain": [
       "0.6407687201694219"
      ]
     },
     "execution_count": 358,
     "metadata": {},
     "output_type": "execute_result"
    }
   ],
   "source": [
    "dummy_clf.score(X_train, y_train)"
   ]
  },
  {
   "cell_type": "code",
   "execution_count": 359,
   "metadata": {},
   "outputs": [],
   "source": [
    "# All scores - Function\n",
    "\n",
    "# accuracy score\n",
    "# f1 score\n",
    "# precision score\n",
    "# recall score\n",
    "\n",
    "def scoring(train, pred):\n",
    "    \n",
    "    accuracy = accuracy_score(train, pred)\n",
    "    f1 = f1_score(train, pred)\n",
    "    precision = precision_score(train, pred)\n",
    "    recall = recall_score(train, pred)\n",
    "    \n",
    "    print(f'Accuracy score is: {accuracy}')\n",
    "    print('---')\n",
    "    print(f'F1 score is: {f1}')\n",
    "    print(f'Precision score is: {precision}')\n",
    "    print(f'Recall score is: {recall}')"
   ]
  },
  {
   "cell_type": "code",
   "execution_count": 360,
   "metadata": {},
   "outputs": [
    {
     "name": "stdout",
     "output_type": "stream",
     "text": [
      "Accuracy score is: 0.6472453720775868\n",
      "---\n",
      "F1 score is: 0.23655227454110136\n",
      "Precision score is: 0.23780487804878048\n",
      "Recall score is: 0.23531279771355987\n"
     ]
    }
   ],
   "source": [
    "# Baseline model scores for F1, Precision and Recall\n",
    "scoring(y_test, dum_predictor)"
   ]
  },
  {
   "cell_type": "code",
   "execution_count": 368,
   "metadata": {
    "scrolled": true
   },
   "outputs": [
    {
     "data": {
      "image/png": "[encoded data removed]",
      "text/plain": [
       "<Figure size 432x288 with 2 Axes>"
      ]
     },
     "metadata": {
      "needs_background": "light"
     },
     "output_type": "display_data"
    }
   ],
   "source": [
    "plot_confusion_matrix(dummy_clf, y_test, dum_predictor)  \n",
    "plt.show()"
   ]
  },
  {
   "cell_type": "code",
   "execution_count": null,
   "metadata": {},
   "outputs": [],
   "source": []
  },
  {
   "cell_type": "markdown",
   "metadata": {},
   "source": [
    "Dummy Classifier Baseline Model: 0.64\n",
    "--\n",
    "\n",
    "Due to accuracy score being an unreliable metric for evaluating how effective the model is.\n",
    "<br>\n",
    "Interested in the metrics of F1, Recall & Precision. As of now, unsure of which one to place sole focus on.\n",
    "<br>\n",
    "<br>\n",
    "The confusion matrix above shows a significant number of False Negatives and False Positives. This is an indicator of class imbalance in the dataset.\n",
    "<br>\n",
    "There is support here to SMOTE the data, with oversampling minority class, undersampling majority class, or both.\n",
    "<br>\n",
    "But first, I'd like to know the metrics for the dataset when using the standard hyperparameters for a few more models.\n",
    "\n",
    "---\n",
    "---\n",
    "---"
   ]
  },
  {
   "cell_type": "markdown",
   "metadata": {},
   "source": [
    "Model #1: KNN -- No Tuning\n",
    "--\n",
    "Reasoning: Because KNN doesn't require training so to speak, I'd like to see how it performs as a baseline model. \n",
    "\n",
    "Vanilla model, n_neighbors = 5 (standard)"
   ]
  },
  {
   "cell_type": "code",
   "execution_count": 229,
   "metadata": {},
   "outputs": [],
   "source": [
    "# Scaling data for KNN \n",
    "\n",
    "scaler = StandardScaler()\n",
    "\n",
    "scaled_data_train = scaler.fit_transform(X_train)\n",
    "scaled_data_test = scaler.transform(X_test)\n",
    "\n",
    "# Convert into a DataFrame\n",
    "scaled_df_train = pd.DataFrame(scaled_data_train, columns=features.columns)"
   ]
  },
  {
   "cell_type": "code",
   "execution_count": 230,
   "metadata": {},
   "outputs": [
    {
     "data": {
      "text/plain": [
       "KNeighborsClassifier()"
      ]
     },
     "execution_count": 230,
     "metadata": {},
     "output_type": "execute_result"
    }
   ],
   "source": [
    "clf = KNeighborsClassifier()\n",
    "clf.fit(scaled_data_train, y_train)"
   ]
  },
  {
   "cell_type": "code",
   "execution_count": 232,
   "metadata": {},
   "outputs": [
    {
     "data": {
      "text/plain": [
       "array([0, 1, 0, ..., 0, 0, 0], dtype=int64)"
      ]
     },
     "execution_count": 232,
     "metadata": {},
     "output_type": "execute_result"
    }
   ],
   "source": [
    "test_predictors = clf.predict(scaled_data_test)\n",
    "test_predictors"
   ]
  },
  {
   "cell_type": "code",
   "execution_count": 233,
   "metadata": {
    "scrolled": true
   },
   "outputs": [
    {
     "name": "stdout",
     "output_type": "stream",
     "text": [
      "Accuracy score is: 0.7295523268677631\n",
      "---\n",
      "F1 score is: 0.22259910960356158\n",
      "Precision score is: 0.33482142857142855\n",
      "Recall score is: 0.16671959352175295\n"
     ]
    }
   ],
   "source": [
    "scoring(y_test, test_predictors)"
   ]
  },
  {
   "cell_type": "markdown",
   "metadata": {},
   "source": [
    "Major Difference: Accuracy vs. The Others\n",
    "--\n",
    "\n",
    "It's clear here that something must be adjusted.\n",
    "In order to increase the F1, Precision and Recall metrics.\n",
    "\n",
    "As well, for KNN, the Precision score has increased a bit, to 0.33\n",
    "However, the Recall score has decreased, to 0.167\n",
    "\n",
    "---\n",
    "---\n",
    "---"
   ]
  },
  {
   "cell_type": "markdown",
   "metadata": {},
   "source": [
    "Model #2: Decision Trees -- No Tuning\n",
    "--\n",
    "\n",
    "- One of the benefits of using this model is to understand feature importance potentially."
   ]
  },
  {
   "cell_type": "code",
   "execution_count": 372,
   "metadata": {},
   "outputs": [
    {
     "data": {
      "text/plain": [
       "DecisionTreeClassifier(random_state=42)"
      ]
     },
     "execution_count": 372,
     "metadata": {},
     "output_type": "execute_result"
    }
   ],
   "source": [
    "clf_dt = DecisionTreeClassifier(random_state=42)  \n",
    "clf_dt.fit(X_train, y_train)"
   ]
  },
  {
   "cell_type": "code",
   "execution_count": 379,
   "metadata": {},
   "outputs": [],
   "source": [
    "dt_y_pred = clf_dt.predict(X_test)"
   ]
  },
  {
   "cell_type": "code",
   "execution_count": 380,
   "metadata": {},
   "outputs": [
    {
     "name": "stdout",
     "output_type": "stream",
     "text": [
      "Accuracy is :74.17213658824397\n"
     ]
    }
   ],
   "source": [
    "acc = accuracy_score(y_test,dt_y_pred) * 100\n",
    "print('Accuracy is :{0}'.format(acc))"
   ]
  },
  {
   "cell_type": "code",
   "execution_count": null,
   "metadata": {},
   "outputs": [],
   "source": []
  },
  {
   "cell_type": "code",
   "execution_count": 381,
   "metadata": {},
   "outputs": [
    {
     "data": {
      "text/plain": [
       "array([0.02543429, 0.0358338 , 0.0353036 , 0.04499333, 0.03785072,\n",
       "       0.02448843, 0.01905301, 0.01944136, 0.01664356, 0.02299654,\n",
       "       0.01687799, 0.01116959, 0.00216902, 0.01525887, 0.0059328 ,\n",
       "       0.01336941, 0.02081464, 0.06283984, 0.0043273 , 0.01033214,\n",
       "       0.00438569, 0.00040038, 0.00697416, 0.00070571, 0.04163661,\n",
       "       0.04264425, 0.03566953, 0.04689917, 0.0405449 , 0.05039414,\n",
       "       0.04523814, 0.0377226 , 0.03140154, 0.04108977, 0.03609377,\n",
       "       0.03969267, 0.03116288, 0.02221382])"
      ]
     },
     "execution_count": 381,
     "metadata": {},
     "output_type": "execute_result"
    }
   ],
   "source": [
    "clf_dt.feature_importances_"
   ]
  },
  {
   "cell_type": "code",
   "execution_count": 544,
   "metadata": {},
   "outputs": [
    {
     "data": {
      "text/plain": [
       "<AxesSubplot:>"
      ]
     },
     "execution_count": 544,
     "metadata": {},
     "output_type": "execute_result"
    },
    {
     "data": {
      "image/png": "[encoded data removed]",
      "text/plain": [
       "<Figure size 432x288 with 1 Axes>"
      ]
     },
     "metadata": {
      "needs_background": "light"
     },
     "output_type": "display_data"
    }
   ],
   "source": [
    "feat_imps = pd.Series(clf_dt.feature_importances_, index=X_train.columns)\n",
    "feat_imps.nlargest(10).plot(kind='barh')"
   ]
  },
  {
   "cell_type": "code",
   "execution_count": 382,
   "metadata": {},
   "outputs": [
    {
     "name": "stdout",
     "output_type": "stream",
     "text": [
      "[0 1]\n"
     ]
    }
   ],
   "source": [
    "print(np.unique(dt_y_pred))"
   ]
  },
  {
   "cell_type": "code",
   "execution_count": 388,
   "metadata": {},
   "outputs": [
    {
     "data": {
      "text/plain": [
       "array([[9635,  775],\n",
       "       [2727,  422]], dtype=int64)"
      ]
     },
     "execution_count": 388,
     "metadata": {},
     "output_type": "execute_result"
    }
   ],
   "source": [
    "confusion_matrix(y_test, dt_y_pred)"
   ]
  },
  {
   "cell_type": "code",
   "execution_count": 390,
   "metadata": {},
   "outputs": [
    {
     "name": "stdout",
     "output_type": "stream",
     "text": [
      "Accuracy score is: 0.7417213658824398\n",
      "---\n",
      "F1 score is: 0.194201564657156\n",
      "Precision score is: 0.35254803675856305\n",
      "Recall score is: 0.1340107970784376\n"
     ]
    }
   ],
   "source": [
    "scoring(y_test, dt_y_pred)"
   ]
  },
  {
   "cell_type": "markdown",
   "metadata": {},
   "source": [
    "Evaluating Confusion Matrix:\n",
    "--\n",
    "\n",
    "- High number of true negatives, which further reveals significant class imbalance.\n",
    "- Precision score remains constant\n",
    "- Could precision be lost with dataset as Recall and F1 are improved?"
   ]
  },
  {
   "cell_type": "code",
   "execution_count": 391,
   "metadata": {
    "scrolled": true
   },
   "outputs": [
    {
     "name": "stdout",
     "output_type": "stream",
     "text": [
      "\n",
      "AUC is :0.53\n"
     ]
    }
   ],
   "source": [
    "# Checking AUC \n",
    "false_positive_rate, true_positive_rate, thresholds = roc_curve(y_test, dt_y_pred)\n",
    "roc_auc = auc(false_positive_rate, true_positive_rate)\n",
    "print('\\nAUC is :{0}'.format(round(roc_auc, 2)))"
   ]
  },
  {
   "cell_type": "code",
   "execution_count": null,
   "metadata": {},
   "outputs": [],
   "source": []
  },
  {
   "cell_type": "markdown",
   "metadata": {},
   "source": [
    "Addressing Class Imbalance: SMOTE Data\n",
    "--\n",
    "\n",
    "By deciding to evaluate Recall, Precision & F1 scores, I've discovered how much of a problem this dataset has with class imbalance. Many machine learning models -- I'm learning -- optimize for accuracy score, and so this score can be very misleading. I did notice the class imbalance before by checking the \"value_counts\" of the label, but I did not realize how it would impact the model performance.\n",
    "<br>\n",
    "<b>I'll need to SMOTE the data here.</b>"
   ]
  },
  {
   "cell_type": "code",
   "execution_count": 247,
   "metadata": {},
   "outputs": [],
   "source": [
    "# https://stackoverflow.com/questions/61867945/python-import-error-cannot-import-name-six-from-sklearn-externals\n",
    "# to successfully use SMOTE\n",
    "\n",
    "import six\n",
    "import sys\n",
    "sys.modules['sklearn.externals.six'] = six"
   ]
  },
  {
   "cell_type": "code",
   "execution_count": 392,
   "metadata": {},
   "outputs": [],
   "source": [
    "smotr = SMOTE()"
   ]
  },
  {
   "cell_type": "code",
   "execution_count": 393,
   "metadata": {},
   "outputs": [],
   "source": [
    "# SMOTE the data\n",
    "X_train_smoted, y_train_smoted = smotr.fit_sample(X_train.values, y_train.values)"
   ]
  },
  {
   "cell_type": "markdown",
   "metadata": {},
   "source": [
    "Analyzing SMOTE Data: Can Decision Tree Model Be Improved?\n",
    "--\n",
    "\n",
    "Now, I'll evaluate the new SMOTE data train sample."
   ]
  },
  {
   "cell_type": "code",
   "execution_count": 394,
   "metadata": {},
   "outputs": [],
   "source": [
    "dt_smote_clf = clf_dt.fit(X_train_smoted, y_train_smoted)"
   ]
  },
  {
   "cell_type": "code",
   "execution_count": 395,
   "metadata": {},
   "outputs": [],
   "source": [
    "dt_preds = clf_dt.predict(X_test)"
   ]
  },
  {
   "cell_type": "code",
   "execution_count": 396,
   "metadata": {},
   "outputs": [
    {
     "name": "stdout",
     "output_type": "stream",
     "text": [
      "Accuracy score is: 0.6714359466037318\n",
      "---\n",
      "F1 score is: 0.3281556326345951\n",
      "Precision score is: 0.31246410109132683\n",
      "Recall score is: 0.3455065100031756\n"
     ]
    }
   ],
   "source": [
    "scoring(y_test, dt_preds)"
   ]
  },
  {
   "cell_type": "code",
   "execution_count": 397,
   "metadata": {},
   "outputs": [
    {
     "data": {
      "image/png": "[encoded data removed]",
      "text/plain": [
       "<Figure size 432x288 with 2 Axes>"
      ]
     },
     "metadata": {
      "needs_background": "light"
     },
     "output_type": "display_data"
    }
   ],
   "source": [
    "plot_confusion_matrix(clf_dt, X_test, y_test)  \n",
    "plt.show()"
   ]
  },
  {
   "cell_type": "code",
   "execution_count": 398,
   "metadata": {},
   "outputs": [
    {
     "data": {
      "text/plain": [
       "array([[8016, 2394],\n",
       "       [2061, 1088]], dtype=int64)"
      ]
     },
     "execution_count": 398,
     "metadata": {},
     "output_type": "execute_result"
    }
   ],
   "source": [
    "confusion_matrix(y_test, dt_preds)"
   ]
  },
  {
   "cell_type": "markdown",
   "metadata": {},
   "source": [
    "Improved F1, Precision & Recall Score with SMOTE:\n",
    "--\n",
    "\n",
    "- Precision has gone down a bit from the Decision Tree model precision score, but otherwise, there's been improvement\n",
    "- the F1 and Recall scores have significantly increased\n",
    "- Shows that model performance increases with SMOTE data\n",
    "\n",
    "Takeaway:\n",
    "- Move forward with SMOTE data\n",
    "- Evaluate model performance with increase in amount of data being SMOTE data, by increasing test_size"
   ]
  },
  {
   "cell_type": "code",
   "execution_count": null,
   "metadata": {},
   "outputs": [],
   "source": []
  },
  {
   "cell_type": "markdown",
   "metadata": {},
   "source": [
    "Model #3: Logistic Regression -- No Tuning\n",
    "--\n",
    "\n",
    "- To pursue a diverse approach to the modeling process\n",
    "- To evaluate gradually-increasing test_size sample + SMOTE data"
   ]
  },
  {
   "cell_type": "code",
   "execution_count": 297,
   "metadata": {},
   "outputs": [
    {
     "data": {
      "text/plain": [
       "LogisticRegression(C=1000000000000.0, fit_intercept=False, solver='liblinear')"
      ]
     },
     "execution_count": 297,
     "metadata": {},
     "output_type": "execute_result"
    }
   ],
   "source": [
    "log_reg = LogisticRegression(fit_intercept=False, C=1e12, solver='liblinear')\n",
    "model_log = log_reg.fit(X_train_smoted, y_train_smoted)\n",
    "model_log"
   ]
  },
  {
   "cell_type": "code",
   "execution_count": 298,
   "metadata": {},
   "outputs": [],
   "source": [
    "log_test_preds = log_reg.predict(X_test) "
   ]
  },
  {
   "cell_type": "code",
   "execution_count": 299,
   "metadata": {},
   "outputs": [
    {
     "name": "stdout",
     "output_type": "stream",
     "text": [
      "Accuracy score is: 0.624328351469725\n",
      "---\n",
      "F1 score is: 0.37405958471260914\n",
      "Precision score is: 0.30428396572827415\n",
      "Recall score is: 0.485357282311597\n"
     ]
    }
   ],
   "source": [
    "scoring(y_test, log_test_preds)"
   ]
  },
  {
   "cell_type": "code",
   "execution_count": 300,
   "metadata": {},
   "outputs": [
    {
     "data": {
      "image/png": "[encoded data removed]",
      "text/plain": [
       "<Figure size 432x288 with 2 Axes>"
      ]
     },
     "metadata": {
      "needs_background": "light"
     },
     "output_type": "display_data"
    }
   ],
   "source": [
    "plot_confusion_matrix(log_reg, X_test, y_test)  \n",
    "plt.show()"
   ]
  },
  {
   "cell_type": "markdown",
   "metadata": {},
   "source": [
    "Results Analysis:\n",
    "--\n",
    "\n",
    "- Decrease in number of False Negatives\n",
    "- Increase in number of False Positives\n",
    "- Increase in number of True Positives\n",
    "- Improvement on the class imbalance is positively impacting model performance"
   ]
  },
  {
   "cell_type": "markdown",
   "metadata": {},
   "source": [
    "Question: How Will Changes In Test Size Impact SMOTE Data Model Performance \n",
    "--\n",
    "\n",
    "- Here, I'm storing various model runs with varied test/training sizes\n",
    "- This means that, each iteration, there is less data used for the SMOTE process\n",
    "- I'd like to see how less SMOTE data impacts the overall scoring."
   ]
  },
  {
   "cell_type": "code",
   "execution_count": 301,
   "metadata": {},
   "outputs": [],
   "source": [
    "training_precision = []\n",
    "testing_precision = []\n",
    "training_recall = []\n",
    "testing_recall = []\n",
    "training_accuracy = []\n",
    "testing_accuracy = []\n",
    "training_f1 = []\n",
    "testing_f1 = []\n",
    "\n",
    "for i in range(30, 50):\n",
    "    X_train, X_test, y_train, y_test = train_test_split(data, labels, test_size=i/100.0, random_state=42)\n",
    "    X_train_smoted, y_train_smoted = smotr.fit_sample(X_train.values, y_train.values)\n",
    "    logreg = LogisticRegression(fit_intercept=False, C=1e25, solver='liblinear')\n",
    "    model_log = logreg.fit(X_train_smoted, y_train_smoted)\n",
    "    y_hat_train = logreg.predict(X_train)\n",
    "    y_hat_test = logreg.predict(X_test)\n",
    "\n",
    "    training_precision.append(precision_score(y_train, y_hat_train))\n",
    "    testing_precision.append(precision_score(y_test, y_hat_test))\n",
    "    training_recall.append(recall_score(y_train, y_hat_train))\n",
    "    testing_recall.append(recall_score(y_test, y_hat_test))\n",
    "    training_accuracy.append(accuracy_score(y_train, y_hat_train))\n",
    "    testing_accuracy.append(accuracy_score(y_test, y_hat_test))\n",
    "    training_f1.append(f1_score(y_train, y_hat_train))\n",
    "    testing_f1.append(f1_score(y_test, y_hat_test))\n"
   ]
  },
  {
   "cell_type": "code",
   "execution_count": 302,
   "metadata": {},
   "outputs": [
    {
     "data": {
      "image/png": "[encoded data removed]",
      "text/plain": [
       "<Figure size 432x288 with 1 Axes>"
      ]
     },
     "metadata": {
      "needs_background": "light"
     },
     "output_type": "display_data"
    }
   ],
   "source": [
    "# Recall seems the most sensitive to SMOTE data\n",
    "\n",
    "plt.scatter(list(range(30, 50)), training_recall, label='training_recall',color='blue')\n",
    "plt.scatter(list(range(30, 50)), testing_recall, label='testing_recall', color='yellow')\n",
    "\n",
    "plt.legend()\n",
    "plt.show()"
   ]
  },
  {
   "cell_type": "code",
   "execution_count": 303,
   "metadata": {},
   "outputs": [
    {
     "data": {
      "image/png": "[encoded data removed]",
      "text/plain": [
       "<Figure size 432x288 with 1 Axes>"
      ]
     },
     "metadata": {
      "needs_background": "light"
     },
     "output_type": "display_data"
    }
   ],
   "source": [
    "# F1 seems consistent despite the fluctuations in SMOTE data \n",
    "\n",
    "plt.scatter(list(range(30, 50)), training_f1, label='training_f1', color='green')\n",
    "plt.scatter(list(range(30, 50)), testing_f1, label='testing_f1', color='orange')\n",
    "\n",
    "plt.legend()\n",
    "plt.show()"
   ]
  },
  {
   "cell_type": "code",
   "execution_count": 304,
   "metadata": {
    "scrolled": true
   },
   "outputs": [
    {
     "data": {
      "image/png": "[encoded data removed]",
      "text/plain": [
       "<Figure size 432x288 with 1 Axes>"
      ]
     },
     "metadata": {
      "needs_background": "light"
     },
     "output_type": "display_data"
    }
   ],
   "source": [
    "# Precision seems to have consistency, despite the change in SMOTE data size, actually appearing to trend upward\n",
    "\n",
    "plt.scatter(list(range(30, 50)), training_precision, label='training_precision', color='blue')\n",
    "plt.scatter(list(range(30, 50)), testing_precision, label='testing_precision', color='yellow')\n",
    "\n",
    "plt.legend()\n",
    "plt.show()"
   ]
  },
  {
   "cell_type": "markdown",
   "metadata": {},
   "source": [
    "Next Move: Test Remaining Models\n",
    "--\n",
    "\n",
    "- Let's run the dataset through a few other models before doing any other tuning or adjustments."
   ]
  },
  {
   "cell_type": "markdown",
   "metadata": {},
   "source": [
    "---\n",
    "---\n",
    "---"
   ]
  },
  {
   "cell_type": "markdown",
   "metadata": {},
   "source": [
    "Model #4: Bag of Trees -- Standard Model (No Tuning)\n",
    "--"
   ]
  },
  {
   "cell_type": "code",
   "execution_count": 305,
   "metadata": {},
   "outputs": [],
   "source": [
    "# Using Bagged Trees\n",
    "bagged_tree = BaggingClassifier(DecisionTreeClassifier(criterion='gini', max_depth=5), \n",
    "                                 n_estimators=20)"
   ]
  },
  {
   "cell_type": "code",
   "execution_count": 306,
   "metadata": {},
   "outputs": [],
   "source": [
    "# Using with SMOTE data\n",
    "bag_clf = bagged_tree.fit(X_train_smoted, y_train_smoted)"
   ]
  },
  {
   "cell_type": "code",
   "execution_count": 307,
   "metadata": {},
   "outputs": [
    {
     "data": {
      "text/plain": [
       "0.6114146385514968"
      ]
     },
     "execution_count": 307,
     "metadata": {},
     "output_type": "execute_result"
    }
   ],
   "source": [
    "# Model score for test data\n",
    "bag_clf.score(X_test, y_test)"
   ]
  },
  {
   "cell_type": "code",
   "execution_count": 308,
   "metadata": {
    "scrolled": true
   },
   "outputs": [
    {
     "name": "stdout",
     "output_type": "stream",
     "text": [
      "Accuracy score is: 0.6114146385514968\n",
      "---\n",
      "F1 score is: 0.3783588558220168\n",
      "Precision score is: 0.3002751662462738\n",
      "Recall score is: 0.5113237016790316\n"
     ]
    },
    {
     "data": {
      "image/png": "[encoded data removed]",
      "text/plain": [
       "<Figure size 432x288 with 2 Axes>"
      ]
     },
     "metadata": {
      "needs_background": "light"
     },
     "output_type": "display_data"
    }
   ],
   "source": [
    "# Predictors\n",
    "bag_pred = bag_clf.predict(X_test)\n",
    "\n",
    "# F1, Precision, & Recall\n",
    "scoring(y_test, bag_pred)\n",
    "\n",
    "# Confusion Matrix\n",
    "plot_confusion_matrix(bag_clf, X_test, y_test)  \n",
    "plt.show()"
   ]
  },
  {
   "cell_type": "markdown",
   "metadata": {},
   "source": [
    "Results Analysis:\n",
    "--\n",
    "\n",
    "- Increase in the # of True Positives (the best model so far)\n",
    "- Increase in the # of True Negatives (the best model so far)\n",
    "- Not the best, but not the worst for False Negatives\n",
    "- So far, the highest # of False Positives\n",
    "\n",
    "Thoughts + Next Steps:\n",
    "- This model ought to be included in final 3 models to further Tune\n",
    "- Relatively low F1, Precision & Recall scores remain, albeit they are remaining consistent\n",
    "- This is on the TEST data, after doing SMOTE data operation"
   ]
  },
  {
   "cell_type": "markdown",
   "metadata": {},
   "source": [
    "Model #5: Random Forests -- Standard Model (Max_Depth: 5)\n",
    "--"
   ]
  },
  {
   "cell_type": "code",
   "execution_count": 309,
   "metadata": {},
   "outputs": [],
   "source": [
    "forest = RandomForestClassifier(n_estimators=100, max_depth= 5)\n",
    "forest_model = forest.fit(X_train_smoted, y_train_smoted)"
   ]
  },
  {
   "cell_type": "code",
   "execution_count": 310,
   "metadata": {},
   "outputs": [],
   "source": [
    "forest_preds = forest_model.predict(X_test)"
   ]
  },
  {
   "cell_type": "code",
   "execution_count": 311,
   "metadata": {},
   "outputs": [
    {
     "name": "stdout",
     "output_type": "stream",
     "text": [
      "Accuracy score is: 0.5755632817085835\n",
      "---\n",
      "F1 score is: 0.4060406925312776\n",
      "Precision score is: 0.3001681614349776\n",
      "Recall score is: 0.6272940257711831\n"
     ]
    }
   ],
   "source": [
    "scoring(y_test, forest_preds)"
   ]
  },
  {
   "cell_type": "code",
   "execution_count": 542,
   "metadata": {},
   "outputs": [
    {
     "data": {
      "text/plain": [
       "<AxesSubplot:>"
      ]
     },
     "execution_count": 542,
     "metadata": {},
     "output_type": "execute_result"
    },
    {
     "data": {
      "image/png": "[encoded data removed]",
      "text/plain": [
       "<Figure size 432x288 with 1 Axes>"
      ]
     },
     "metadata": {
      "needs_background": "light"
     },
     "output_type": "display_data"
    }
   ],
   "source": [
    "feat_impo = pd.Series(forest.feature_importances_, index=X_train.columns)\n",
    "feat_impo.nlargest(10).plot(kind='barh')"
   ]
  },
  {
   "cell_type": "code",
   "execution_count": 312,
   "metadata": {},
   "outputs": [
    {
     "data": {
      "image/png": "[encoded data removed]",
      "text/plain": [
       "<Figure size 432x288 with 2 Axes>"
      ]
     },
     "metadata": {
      "needs_background": "light"
     },
     "output_type": "display_data"
    }
   ],
   "source": [
    "plot_confusion_matrix(forest_model, X_test, y_test)  \n",
    "plt.show()"
   ]
  },
  {
   "cell_type": "markdown",
   "metadata": {},
   "source": [
    "Results Analysis:\n",
    "--\n",
    "\n",
    "- The confusion matrix overall has performed the \"best\" with the highest # of True Positives\n",
    "- However, the # of False Positives has increased as well\n",
    "\n",
    "Thoughts + Next Steps:\n",
    "- I'd like to know the feature importances at this point\n",
    "- I'd like to run an XGBoost model to add dynamic"
   ]
  },
  {
   "cell_type": "markdown",
   "metadata": {},
   "source": [
    "Model #6: XGBoost\n",
    "--\n",
    "\n",
    "- This will be the final standard model run before focusing my efforts\n",
    "- This model may be apart of the top 3 by default just because of its ability to optimize"
   ]
  },
  {
   "cell_type": "code",
   "execution_count": 399,
   "metadata": {},
   "outputs": [],
   "source": [
    "xgb_clf = xgb.XGBClassifier()"
   ]
  },
  {
   "cell_type": "code",
   "execution_count": 400,
   "metadata": {},
   "outputs": [],
   "source": [
    "# Adjusting features and target for XGBoost, into DataFrame\n",
    "smote_df_x = pd.DataFrame(X_train_smoted, columns=X_train.columns)\n",
    "smote_df_y = pd.DataFrame(y_train_smoted, columns=y_train.columns)"
   ]
  },
  {
   "cell_type": "code",
   "execution_count": 401,
   "metadata": {},
   "outputs": [],
   "source": [
    "xgb_clf_model = xgb_clf.fit(smote_df_x, smote_df_y)"
   ]
  },
  {
   "cell_type": "code",
   "execution_count": 402,
   "metadata": {
    "scrolled": true
   },
   "outputs": [],
   "source": [
    "xgb_preds = xgb_clf.predict(X_test)"
   ]
  },
  {
   "cell_type": "code",
   "execution_count": 403,
   "metadata": {},
   "outputs": [
    {
     "name": "stdout",
     "output_type": "stream",
     "text": [
      "Accuracy score is: 0.5816800649015414\n",
      "---\n",
      "F1 score is: 0.39685240323266696\n",
      "Precision score is: 0.2983213429256595\n",
      "Recall score is: 0.5925690695458876\n"
     ]
    }
   ],
   "source": [
    "scoring(y_test, xgb_preds)"
   ]
  },
  {
   "cell_type": "code",
   "execution_count": 404,
   "metadata": {},
   "outputs": [
    {
     "data": {
      "image/png": "[encoded data removed]",
      "text/plain": [
       "<Figure size 432x288 with 2 Axes>"
      ]
     },
     "metadata": {
      "needs_background": "light"
     },
     "output_type": "display_data"
    }
   ],
   "source": [
    "plot_confusion_matrix(xgb_clf_model, X_test, y_test)  \n",
    "plt.show()"
   ]
  },
  {
   "cell_type": "markdown",
   "metadata": {},
   "source": [
    "Results Analysis: XGBoost\n",
    "--\n",
    "\n",
    "- Reduces false positives and false negatives\n",
    "- Precision score remains stable\n",
    "- F1 & Recall scores remain stable"
   ]
  },
  {
   "cell_type": "code",
   "execution_count": null,
   "metadata": {},
   "outputs": [],
   "source": []
  },
  {
   "cell_type": "markdown",
   "metadata": {},
   "source": [
    "Evaluation of Work so Far:\n",
    "--\n",
    "\n",
    "- Established baseline model using Scikit dummies\n",
    "- Run the following models: KNN, Decision Trees, Bag of Trees, Random Forests, Logistic Regression, XGBoost\n",
    "- Higher accuracy scores + Low F1/Recall/Precision scores = Class Imbalance\n",
    "- SMOTE Data to create X_train_smoted and y_train_smoted\n",
    "- Seeing steady improvement (or stability) of F1/Recall/Precision\n",
    "- Logistic Regression Visualization -- revealing justification for focus on the Recall score\n",
    "- Identified initial features importance from Random Forests (Call Type: Not Reported)\n",
    "\n",
    "\n",
    "Models for Further Focus:\n",
    "- Random Forests: improve model and identify better feature importances if possible\n",
    "- Logistic Regression: improve model and incorporate scaled data\n",
    "- XGBoost: leverage the algorithm to improve model if possible, especially via GridSearch\n",
    "\n",
    "\n",
    "Other Next Steps:\n",
    "- Attempt to run models more efficiently by using functions & Pipeline\n",
    "- Conduct hyperparameter tuning for the shortlisted models, using GridSearch\n",
    "- Choose Final Model after evaluating the three finalist\n",
    "- Perform K-fold cross validation during evaluation"
   ]
  },
  {
   "cell_type": "markdown",
   "metadata": {},
   "source": [
    "---\n",
    "---\n",
    "---"
   ]
  },
  {
   "cell_type": "markdown",
   "metadata": {},
   "source": [
    "Current Best Metrics:\n",
    "--\n",
    "\n",
    "Random Forests --\n",
    "- F1(0.30)\n",
    "- Precision(0.40)\n",
    "- Recall(0.59)"
   ]
  },
  {
   "cell_type": "code",
   "execution_count": 463,
   "metadata": {},
   "outputs": [],
   "source": [
    "# Train-test split version 2\n",
    "X_train2, X_test2, y_train2, y_test2 = train_test_split(data, labels, test_size=0.30, random_state=333)"
   ]
  },
  {
   "cell_type": "code",
   "execution_count": 766,
   "metadata": {},
   "outputs": [],
   "source": [
    "# SMOTE Data, after Scaling data\n",
    "X_train_smoted2, y_train_smoted2 = smotr.fit_sample(X_train.values, y_train.values)"
   ]
  },
  {
   "cell_type": "code",
   "execution_count": 610,
   "metadata": {},
   "outputs": [],
   "source": [
    "# Scale Data\n",
    "scaler = StandardScaler()\n",
    "\n",
    "scaled_smote_X_train2 = scaler.fit_transform(X_train_smoted2)\n",
    "scaled_smote_X_test2 = scaler.transform(X_test2)"
   ]
  },
  {
   "cell_type": "code",
   "execution_count": 611,
   "metadata": {},
   "outputs": [
    {
     "data": {
      "text/plain": [
       "array([[-0.21230295, -0.51140285, -0.69880059, ..., -0.47900178,\n",
       "        -0.46479718,  2.67443118],\n",
       "       [-0.21230295,  1.95540561, -0.69880059, ..., -0.47900178,\n",
       "        -0.46479718, -0.37391128],\n",
       "       [-0.21230295, -0.51140285,  1.43102341, ..., -0.47900178,\n",
       "         2.15147607, -0.37391128],\n",
       "       ...,\n",
       "       [-0.21230295, -0.51140285, -0.69880059, ..., -0.47900178,\n",
       "        -0.46479718,  2.67443118],\n",
       "       [-0.21230295, -0.51140285,  1.43102341, ..., -0.47900178,\n",
       "        -0.46479718, -0.37391128],\n",
       "       [-0.21230295, -0.51140285,  1.43102341, ..., -0.47900178,\n",
       "        -0.46479718, -0.37391128]])"
      ]
     },
     "execution_count": 611,
     "metadata": {},
     "output_type": "execute_result"
    }
   ],
   "source": [
    "scaled_smote_X_train2"
   ]
  },
  {
   "cell_type": "code",
   "execution_count": 612,
   "metadata": {},
   "outputs": [],
   "source": [
    "scaled_smote_X_train2 = pd.DataFrame(scaled_smote_X_train2, columns=X_train.columns)\n",
    "y_train_smoted2 = pd.DataFrame(y_train_smoted2, columns=['Frisk_Flag'])"
   ]
  },
  {
   "cell_type": "code",
   "execution_count": null,
   "metadata": {},
   "outputs": [],
   "source": []
  },
  {
   "cell_type": "markdown",
   "metadata": {},
   "source": [
    "Hyperparamter Tuning via GridSearch: Random Forests\n",
    "--\n",
    "\n",
    "- Hyperparameter Tuning & Best Settings\n",
    "- Cross-validation\n",
    "- Feature Importance Visualization\n",
    "- Updated confusion matrix + important scores"
   ]
  },
  {
   "cell_type": "code",
   "execution_count": 614,
   "metadata": {},
   "outputs": [
    {
     "data": {
      "text/plain": [
       "RandomForestClassifier(max_depth=5)"
      ]
     },
     "execution_count": 614,
     "metadata": {},
     "output_type": "execute_result"
    }
   ],
   "source": [
    "forest_clf = RandomForestClassifier(n_estimators=100, max_depth=5)\n",
    "forest_clf.fit(scaled_smote_X_train2, y_train_smoted2)"
   ]
  },
  {
   "cell_type": "code",
   "execution_count": 615,
   "metadata": {},
   "outputs": [
    {
     "data": {
      "text/plain": [
       "array([2.41472572e-03, 7.11551412e-03, 2.32442933e-03, 3.27022315e-03,\n",
       "       9.12023769e-03, 1.44187980e-02, 3.60516210e-03, 1.74835604e-02,\n",
       "       3.40008094e-03, 1.40261350e-02, 5.42672607e-03, 4.46910397e-03,\n",
       "       2.42143031e-04, 5.39107063e-03, 5.42513888e-04, 3.32676144e-02,\n",
       "       1.02615258e-01, 2.35025063e-01, 2.12896442e-03, 2.95147770e-01,\n",
       "       7.46455947e-02, 0.00000000e+00, 2.10741545e-02, 1.49225485e-05,\n",
       "       1.29829108e-02, 4.09248103e-03, 5.04347397e-02, 2.77706546e-03,\n",
       "       3.90865497e-03, 1.15224222e-02, 1.20041479e-02, 2.88775471e-03,\n",
       "       9.28325625e-03, 3.43428192e-03, 5.92382907e-03, 8.18838268e-03,\n",
       "       6.02994842e-03, 9.36035874e-03])"
      ]
     },
     "execution_count": 615,
     "metadata": {},
     "output_type": "execute_result"
    }
   ],
   "source": [
    "# Feature Importances\n",
    "forest_clf.feature_importances_"
   ]
  },
  {
   "cell_type": "code",
   "execution_count": 616,
   "metadata": {},
   "outputs": [],
   "source": [
    "forest_clf_preds = forest_clf.predict(X_test)"
   ]
  },
  {
   "cell_type": "code",
   "execution_count": 642,
   "metadata": {},
   "outputs": [
    {
     "data": {
      "text/plain": [
       "<AxesSubplot:>"
      ]
     },
     "execution_count": 642,
     "metadata": {},
     "output_type": "execute_result"
    },
    {
     "data": {
      "image/png": "[encoded data removed]",
      "text/plain": [
       "<Figure size 432x288 with 1 Axes>"
      ]
     },
     "metadata": {
      "needs_background": "light"
     },
     "output_type": "display_data"
    }
   ],
   "source": [
    "feat_imports = pd.Series(forest_clf.feature_importances_, index=X_train.columns)\n",
    "feat_imports.nlargest(10).plot(kind='barh')"
   ]
  },
  {
   "cell_type": "code",
   "execution_count": 618,
   "metadata": {},
   "outputs": [],
   "source": [
    "forest_clf_pred = forest_clf.predict(X_test)"
   ]
  },
  {
   "cell_type": "code",
   "execution_count": 619,
   "metadata": {},
   "outputs": [
    {
     "data": {
      "image/png": "[encoded data removed]",
      "text/plain": [
       "<Figure size 432x288 with 2 Axes>"
      ]
     },
     "metadata": {
      "needs_background": "light"
     },
     "output_type": "display_data"
    }
   ],
   "source": [
    "plot_confusion_matrix(forest_clf, X_test, y_test)  \n",
    "plt.show()"
   ]
  },
  {
   "cell_type": "code",
   "execution_count": 620,
   "metadata": {},
   "outputs": [
    {
     "name": "stdout",
     "output_type": "stream",
     "text": [
      "Accuracy score is: 0.5305701010398997\n",
      "---\n",
      "F1 score is: 0.4158942828301367\n",
      "Precision score is: 0.294783400546377\n",
      "Recall score is: 0.7059190031152648\n"
     ]
    }
   ],
   "source": [
    "scoring(y_test, forest_clf_pred)"
   ]
  },
  {
   "cell_type": "markdown",
   "metadata": {},
   "source": [
    "Results Analysis:\n",
    "--\n",
    "\n",
    "- True positives from first Random Forest model is better\n",
    "- Recall score has increased significantly with SMOTE+Scaled data\n",
    "- But, False Positives have increased (this could be why Precision score has fallen a bit)"
   ]
  },
  {
   "cell_type": "markdown",
   "metadata": {},
   "source": [
    "Random Forests: GridSearchCV for Hyperparameter Tuning\n",
    "--\n"
   ]
  },
  {
   "cell_type": "code",
   "execution_count": 647,
   "metadata": {},
   "outputs": [],
   "source": [
    "rf_pipeline_1 = Pipeline([('RF', RandomForestClassifier(random_state=123))])"
   ]
  },
  {
   "cell_type": "code",
   "execution_count": 632,
   "metadata": {
    "scrolled": true
   },
   "outputs": [],
   "source": [
    "grid = [{'RF__max_depth': [3, 8, 15], \n",
    "         'RF__min_samples_split': [2, 4, 8], \n",
    "         'RF__min_samples_leaf': [1, 3, 5]}]"
   ]
  },
  {
   "cell_type": "code",
   "execution_count": 636,
   "metadata": {},
   "outputs": [],
   "source": [
    "gridsearch = GridSearchCV(estimator=rf_pipeline_1, \n",
    "                          param_grid=grid, \n",
    "                          scoring='accuracy', \n",
    "                          cv=5)"
   ]
  },
  {
   "cell_type": "code",
   "execution_count": 637,
   "metadata": {},
   "outputs": [
    {
     "data": {
      "text/plain": [
       "GridSearchCV(cv=5,\n",
       "             estimator=Pipeline(steps=[('RF',\n",
       "                                        RandomForestClassifier(random_state=123))]),\n",
       "             param_grid=[{'RF__max_depth': [3, 8, 15],\n",
       "                          'RF__min_samples_leaf': [1, 3, 5],\n",
       "                          'RF__min_samples_split': [2, 4, 8]}],\n",
       "             scoring='accuracy')"
      ]
     },
     "execution_count": 637,
     "metadata": {},
     "output_type": "execute_result"
    }
   ],
   "source": [
    "gridsearch.fit(scaled_smote_X_train2, y_train_smoted2)"
   ]
  },
  {
   "cell_type": "code",
   "execution_count": 638,
   "metadata": {},
   "outputs": [
    {
     "data": {
      "text/plain": [
       "0.4989305996017405"
      ]
     },
     "execution_count": 638,
     "metadata": {},
     "output_type": "execute_result"
    }
   ],
   "source": [
    "gridsearch.score(X_test, y_test)"
   ]
  },
  {
   "cell_type": "code",
   "execution_count": 646,
   "metadata": {},
   "outputs": [
    {
     "data": {
      "text/plain": [
       "{'RF__max_depth': 15, 'RF__min_samples_leaf': 1, 'RF__min_samples_split': 4}"
      ]
     },
     "execution_count": 646,
     "metadata": {},
     "output_type": "execute_result"
    }
   ],
   "source": [
    "gridsearch.best_params_"
   ]
  },
  {
   "cell_type": "code",
   "execution_count": null,
   "metadata": {},
   "outputs": [],
   "source": []
  },
  {
   "cell_type": "code",
   "execution_count": null,
   "metadata": {},
   "outputs": [],
   "source": []
  },
  {
   "cell_type": "code",
   "execution_count": 650,
   "metadata": {},
   "outputs": [],
   "source": [
    "rf_pipeline_2 = Pipeline([('RF', RandomForestClassifier(n_estimators=100, random_state=123))])\n",
    "\n",
    "grid2 = [{'RF__max_depth': [3, 8, 15], \n",
    "         'RF__min_samples_split': [2, 4, 8], \n",
    "         'RF__min_samples_leaf': [1, 3, 5]}]"
   ]
  },
  {
   "cell_type": "code",
   "execution_count": 653,
   "metadata": {},
   "outputs": [],
   "source": [
    "gridsearch2 = GridSearchCV(estimator=rf_pipeline_2, \n",
    "                          param_grid=grid2, \n",
    "                          scoring='accuracy', \n",
    "                          cv=5)"
   ]
  },
  {
   "cell_type": "code",
   "execution_count": 654,
   "metadata": {},
   "outputs": [
    {
     "data": {
      "text/plain": [
       "GridSearchCV(cv=5,\n",
       "             estimator=Pipeline(steps=[('RF',\n",
       "                                        RandomForestClassifier(random_state=123))]),\n",
       "             param_grid=[{'RF__max_depth': [3, 8, 15],\n",
       "                          'RF__min_samples_leaf': [1, 3, 5],\n",
       "                          'RF__min_samples_split': [2, 4, 8]}],\n",
       "             scoring='accuracy')"
      ]
     },
     "execution_count": 654,
     "metadata": {},
     "output_type": "execute_result"
    }
   ],
   "source": [
    "gridsearch2.fit(scaled_smote_X_train2, y_train_smoted2)"
   ]
  },
  {
   "cell_type": "code",
   "execution_count": 655,
   "metadata": {},
   "outputs": [
    {
     "data": {
      "text/plain": [
       "{'RF__max_depth': 15, 'RF__min_samples_leaf': 1, 'RF__min_samples_split': 4}"
      ]
     },
     "execution_count": 655,
     "metadata": {},
     "output_type": "execute_result"
    }
   ],
   "source": [
    "gridsearch2.best_params_"
   ]
  },
  {
   "cell_type": "code",
   "execution_count": null,
   "metadata": {},
   "outputs": [],
   "source": []
  },
  {
   "cell_type": "code",
   "execution_count": 656,
   "metadata": {},
   "outputs": [
    {
     "data": {
      "text/plain": [
       "RandomForestClassifier(max_depth=15, min_samples_split=4)"
      ]
     },
     "execution_count": 656,
     "metadata": {},
     "output_type": "execute_result"
    }
   ],
   "source": [
    "forest_clf = RandomForestClassifier(n_estimators=100, max_depth=15, min_samples_leaf=1, min_samples_split=4)\n",
    "forest_clf.fit(scaled_smote_X_train2, y_train_smoted2)"
   ]
  },
  {
   "cell_type": "code",
   "execution_count": 658,
   "metadata": {},
   "outputs": [],
   "source": [
    "predi_forest = forest_clf.predict(X_test)"
   ]
  },
  {
   "cell_type": "code",
   "execution_count": 659,
   "metadata": {},
   "outputs": [
    {
     "name": "stdout",
     "output_type": "stream",
     "text": [
      "Accuracy score is: 0.4946529980087027\n",
      "---\n",
      "F1 score is: 0.4033437826541275\n",
      "Precision score is: 0.27991298042059465\n",
      "Recall score is: 0.7214953271028037\n"
     ]
    }
   ],
   "source": [
    "scoring(y_test, predi_forest)"
   ]
  },
  {
   "cell_type": "code",
   "execution_count": 660,
   "metadata": {
    "scrolled": true
   },
   "outputs": [
    {
     "data": {
      "text/plain": [
       "<AxesSubplot:>"
      ]
     },
     "execution_count": 660,
     "metadata": {},
     "output_type": "execute_result"
    },
    {
     "data": {
      "image/png": "[encoded data removed]",
      "text/plain": [
       "<Figure size 432x288 with 1 Axes>"
      ]
     },
     "metadata": {
      "needs_background": "light"
     },
     "output_type": "display_data"
    }
   ],
   "source": [
    "feat_imports_forest = pd.Series(forest_clf.feature_importances_, index=X_train.columns)\n",
    "feat_imports_forest.nlargest(10).plot(kind='barh')"
   ]
  },
  {
   "cell_type": "code",
   "execution_count": 721,
   "metadata": {},
   "outputs": [
    {
     "data": {
      "image/png": "[encoded data removed]",
      "text/plain": [
       "<Figure size 432x288 with 2 Axes>"
      ]
     },
     "metadata": {
      "needs_background": "light"
     },
     "output_type": "display_data"
    }
   ],
   "source": [
    "plot_confusion_matrix(forest_clf, X_test, y_test)  \n",
    "plt.show()"
   ]
  },
  {
   "cell_type": "markdown",
   "metadata": {},
   "source": [
    "Results Analysis:\n",
    "--\n",
    "\n",
    "- Based on hyperparameters given, the optimum parameters lead to a precision decrease, but an F1 and Recall increase.\n",
    "- As well as an accuracy score decrease.\n"
   ]
  },
  {
   "cell_type": "markdown",
   "metadata": {},
   "source": [
    "Logistic Regression Tuning\n",
    "--\n",
    "\n",
    "- Let's tune Logistic Regression by adjusting the 'solver' as well as the \"c\" value"
   ]
  },
  {
   "cell_type": "code",
   "execution_count": 661,
   "metadata": {},
   "outputs": [],
   "source": [
    "log_reg2 = LogisticRegression(fit_intercept=False, C=1e12, solver='saga')\n",
    "model_log2 = log_reg2.fit(X_train_smoted2, y_train_smoted2)"
   ]
  },
  {
   "cell_type": "code",
   "execution_count": 663,
   "metadata": {},
   "outputs": [],
   "source": [
    "log_reg2_predictor = log_reg2.predict(X_test)"
   ]
  },
  {
   "cell_type": "code",
   "execution_count": 692,
   "metadata": {},
   "outputs": [
    {
     "data": {
      "text/plain": [
       "array([ 0.5875732 ,  0.08258837, -0.42332913, ..., -0.43911814,\n",
       "        0.20098263,  0.12746691])"
      ]
     },
     "execution_count": 692,
     "metadata": {},
     "output_type": "execute_result"
    }
   ],
   "source": [
    "log_reg2.decision_function(X_test)"
   ]
  },
  {
   "cell_type": "code",
   "execution_count": 706,
   "metadata": {},
   "outputs": [
    {
     "name": "stdout",
     "output_type": "stream",
     "text": [
      "Accuracy score is: 0.6160483811490522\n",
      "---\n",
      "F1 score is: 0.38724105461393593\n",
      "Precision score is: 0.31119939462731744\n",
      "Recall score is: 0.5124610591900312\n"
     ]
    }
   ],
   "source": [
    "scoring(y_test, log_reg2_predictor)"
   ]
  },
  {
   "cell_type": "markdown",
   "metadata": {},
   "source": [
    "Adjusting Parameters: Logistic Regression\n",
    "--"
   ]
  },
  {
   "cell_type": "code",
   "execution_count": 718,
   "metadata": {},
   "outputs": [],
   "source": [
    "# Saga solver and changing C to 50\n",
    "\n",
    "log_reg3 = LogisticRegression(fit_intercept=False, C=50, solver='saga')\n",
    "model_log3 = log_reg3.fit(X_train_smoted2, y_train_smoted2)"
   ]
  },
  {
   "cell_type": "code",
   "execution_count": 719,
   "metadata": {},
   "outputs": [],
   "source": [
    "log3_preds = model_log3.predict(X_test)"
   ]
  },
  {
   "cell_type": "code",
   "execution_count": 720,
   "metadata": {},
   "outputs": [
    {
     "name": "stdout",
     "output_type": "stream",
     "text": [
      "Accuracy score is: 0.6159746293974482\n",
      "---\n",
      "F1 score is: 0.38719548075791455\n",
      "Precision score is: 0.3111405333837715\n",
      "Recall score is: 0.5124610591900312\n"
     ]
    }
   ],
   "source": [
    "scoring(y_test, log3_preds)"
   ]
  },
  {
   "cell_type": "code",
   "execution_count": 725,
   "metadata": {},
   "outputs": [
    {
     "data": {
      "text/plain": [
       "array([[ 1.73364827,  1.87693845,  1.77341461,  1.75605446,  1.6222294 ,\n",
       "         1.36388917,  1.83946909, -1.40303187, -1.12564896, -0.74396131,\n",
       "        -1.07357754, -1.29581283, -2.32278488, -0.9444583 , -1.48708177,\n",
       "        -1.35866567, -1.05127692, -0.01401022, -0.90402868, -0.98686237,\n",
       "        -0.62249987,  2.93942994, -0.60383629, -1.01213622,  0.16635559,\n",
       "         0.3307997 , -0.03509909,  0.19665991,  0.09814551, -0.01060642,\n",
       "        -0.04540361,  0.10357961, -0.6761281 , -0.66612791, -0.71326228,\n",
       "        -0.73241404, -0.73100619, -0.76874808]])"
      ]
     },
     "execution_count": 725,
     "metadata": {},
     "output_type": "execute_result"
    }
   ],
   "source": [
    "log_reg3.coef_"
   ]
  },
  {
   "cell_type": "code",
   "execution_count": 730,
   "metadata": {},
   "outputs": [],
   "source": [
    "prob_of_y2 = model_log3.predict_proba(X_test)"
   ]
  },
  {
   "cell_type": "code",
   "execution_count": 732,
   "metadata": {},
   "outputs": [],
   "source": [
    "prob_of_y = [p[1] for p in prob_of_y2]"
   ]
  },
  {
   "cell_type": "code",
   "execution_count": 733,
   "metadata": {},
   "outputs": [
    {
     "data": {
      "text/plain": [
       "[0.642808977647746,\n",
       " 0.5206410310723258,\n",
       " 0.3957216189741297,\n",
       " 0.2926917323826629,\n",
       " 0.2743995143010553,\n",
       " 0.45617743987299064,\n",
       " 0.30029732773837126,\n",
       " 0.42379416223175664,\n",
       " 0.48998520983242394,\n",
       " 0.6281889044339483]"
      ]
     },
     "execution_count": 733,
     "metadata": {},
     "output_type": "execute_result"
    }
   ],
   "source": [
    "prob_of_y[:10]"
   ]
  },
  {
   "cell_type": "code",
   "execution_count": 736,
   "metadata": {},
   "outputs": [
    {
     "name": "stdout",
     "output_type": "stream",
     "text": [
      "0.6149861575561201\n"
     ]
    }
   ],
   "source": [
    "print(roc_auc_score(y_test, prob_of_y))"
   ]
  },
  {
   "cell_type": "code",
   "execution_count": null,
   "metadata": {},
   "outputs": [],
   "source": []
  },
  {
   "cell_type": "markdown",
   "metadata": {},
   "source": [
    "GridSearch with XGBoost\n",
    "--\n",
    "\n",
    "- For the third model to adjust, I'll go with XGBoost.\n",
    "- BUT, I'll be running non-SMOTE and non-scaled models through with Pipeline, to get an additional angle of insight."
   ]
  },
  {
   "cell_type": "code",
   "execution_count": 778,
   "metadata": {},
   "outputs": [],
   "source": [
    "modelo = xgb.XGBClassifier()\n",
    "\n",
    "pipeline = Pipeline([\n",
    "    ('standard_scaler', StandardScaler()), \n",
    "    ('model', modelo)\n",
    "])\n",
    "\n",
    "param_grid = {\n",
    "    \n",
    "    'model__max_depth': [3, 5, 8, 15],\n",
    "    'model__n_estimators': [10, 100, 300],\n",
    "}\n",
    "\n",
    "grid = GridSearchCV(pipeline, param_grid, cv=5, n_jobs=-1, scoring='roc_auc')"
   ]
  },
  {
   "cell_type": "code",
   "execution_count": 779,
   "metadata": {},
   "outputs": [
    {
     "data": {
      "text/plain": [
       "GridSearchCV(cv=5,\n",
       "             estimator=Pipeline(steps=[('standard_scaler', StandardScaler()),\n",
       "                                       ('model', XGBClassifier())]),\n",
       "             n_jobs=-1,\n",
       "             param_grid={'model__max_depth': [3, 5, 8, 15],\n",
       "                         'model__n_estimators': [10, 100, 300]},\n",
       "             scoring='roc_auc')"
      ]
     },
     "execution_count": 779,
     "metadata": {},
     "output_type": "execute_result"
    }
   ],
   "source": [
    "grid.fit(X_train_smoted2, y_train_smoted2)"
   ]
  },
  {
   "cell_type": "code",
   "execution_count": 780,
   "metadata": {},
   "outputs": [
    {
     "data": {
      "text/plain": [
       "{'model__max_depth': 15, 'model__n_estimators': 100}"
      ]
     },
     "execution_count": 780,
     "metadata": {},
     "output_type": "execute_result"
    }
   ],
   "source": [
    "grid.best_params_"
   ]
  },
  {
   "cell_type": "code",
   "execution_count": 789,
   "metadata": {},
   "outputs": [
    {
     "data": {
      "text/plain": [
       "{'mean_fit_time': array([  1.01348844,   6.62407894,  26.40975108,   1.83648591,\n",
       "         28.05734625,  38.43757706,   2.37983198,  19.99949908,\n",
       "         65.56580529,   4.74889417,  62.94334869, 193.88698354]),\n",
       " 'std_fit_time': array([2.40306886e-02, 1.07569879e-01, 9.59017849e+00, 3.49521364e-01,\n",
       "        4.77251489e+00, 4.22722422e+00, 2.16133608e-01, 2.94073806e+00,\n",
       "        5.94378021e+00, 3.79388629e-01, 2.17887614e+01, 2.83595064e+01]),\n",
       " 'mean_score_time': array([0.02353749, 0.05146322, 0.17353678, 0.02772627, 0.11549091,\n",
       "        0.21462722, 0.02852492, 0.12466726, 0.4256619 , 0.03909616,\n",
       "        0.71383724, 3.13256459]),\n",
       " 'std_score_time': array([0.00293187, 0.00590413, 0.033786  , 0.00353341, 0.02772145,\n",
       "        0.01462077, 0.00256983, 0.00302512, 0.02511538, 0.00132255,\n",
       "        0.26947421, 0.21979469]),\n",
       " 'param_model__max_depth': masked_array(data=[3, 3, 3, 5, 5, 5, 8, 8, 8, 15, 15, 15],\n",
       "              mask=[False, False, False, False, False, False, False, False,\n",
       "                    False, False, False, False],\n",
       "        fill_value='?',\n",
       "             dtype=object),\n",
       " 'param_model__n_estimators': masked_array(data=[10, 100, 300, 10, 100, 300, 10, 100, 300, 10, 100, 300],\n",
       "              mask=[False, False, False, False, False, False, False, False,\n",
       "                    False, False, False, False],\n",
       "        fill_value='?',\n",
       "             dtype=object),\n",
       " 'params': [{'model__max_depth': 3, 'model__n_estimators': 10},\n",
       "  {'model__max_depth': 3, 'model__n_estimators': 100},\n",
       "  {'model__max_depth': 3, 'model__n_estimators': 300},\n",
       "  {'model__max_depth': 5, 'model__n_estimators': 10},\n",
       "  {'model__max_depth': 5, 'model__n_estimators': 100},\n",
       "  {'model__max_depth': 5, 'model__n_estimators': 300},\n",
       "  {'model__max_depth': 8, 'model__n_estimators': 10},\n",
       "  {'model__max_depth': 8, 'model__n_estimators': 100},\n",
       "  {'model__max_depth': 8, 'model__n_estimators': 300},\n",
       "  {'model__max_depth': 15, 'model__n_estimators': 10},\n",
       "  {'model__max_depth': 15, 'model__n_estimators': 100},\n",
       "  {'model__max_depth': 15, 'model__n_estimators': 300}],\n",
       " 'split0_test_score': array([0.60412353, 0.61389871, 0.62010522, 0.6072467 , 0.62954088,\n",
       "        0.63483155, 0.6274311 , 0.64765938, 0.64626409, 0.67654416,\n",
       "        0.67343623, 0.66040719]),\n",
       " 'split1_test_score': array([0.64476851, 0.69291686, 0.73041597, 0.66765337, 0.74444311,\n",
       "        0.76872817, 0.71056233, 0.7777008 , 0.78209582, 0.76645534,\n",
       "        0.79034771, 0.78330934]),\n",
       " 'split2_test_score': array([0.66347683, 0.74206006, 0.81832571, 0.70511269, 0.85603267,\n",
       "        0.89839925, 0.76734992, 0.90680831, 0.91830338, 0.87112275,\n",
       "        0.92347518, 0.92208113]),\n",
       " 'split3_test_score': array([0.66324199, 0.74097785, 0.81783971, 0.70415811, 0.85713784,\n",
       "        0.89891622, 0.76818104, 0.91002906, 0.92469129, 0.87742603,\n",
       "        0.92964301, 0.9282479 ]),\n",
       " 'split4_test_score': array([0.66210298, 0.73559218, 0.81393778, 0.69817705, 0.85273715,\n",
       "        0.8970051 , 0.76836828, 0.90468599, 0.91979693, 0.86801135,\n",
       "        0.92225688, 0.92005244]),\n",
       " 'mean_test_score': array([0.64754277, 0.70508913, 0.76012488, 0.67646959, 0.78797833,\n",
       "        0.81957606, 0.72837853, 0.82937671, 0.8382303 , 0.81191193,\n",
       "        0.8478318 , 0.8428196 ]),\n",
       " 'std_test_score': array([0.02282668, 0.04909   , 0.07759161, 0.03722319, 0.09011756,\n",
       "        0.10508973, 0.05515431, 0.10379165, 0.11003856, 0.07916552,\n",
       "        0.10165857, 0.10617067]),\n",
       " 'rank_test_score': array([12, 10,  8, 11,  7,  5,  9,  4,  3,  6,  1,  2])}"
      ]
     },
     "execution_count": 789,
     "metadata": {},
     "output_type": "execute_result"
    }
   ],
   "source": [
    "grid.cv_results_"
   ]
  },
  {
   "cell_type": "code",
   "execution_count": 790,
   "metadata": {},
   "outputs": [
    {
     "data": {
      "text/html": [
       "<div>\n",
       "<style scoped>\n",
       "    .dataframe tbody tr th:only-of-type {\n",
       "        vertical-align: middle;\n",
       "    }\n",
       "\n",
       "    .dataframe tbody tr th {\n",
       "        vertical-align: top;\n",
       "    }\n",
       "\n",
       "    .dataframe thead th {\n",
       "        text-align: right;\n",
       "    }\n",
       "</style>\n",
       "<table border=\"1\" class=\"dataframe\">\n",
       "  <thead>\n",
       "    <tr style=\"text-align: right;\">\n",
       "      <th></th>\n",
       "      <th>mean_fit_time</th>\n",
       "      <th>std_fit_time</th>\n",
       "      <th>mean_score_time</th>\n",
       "      <th>std_score_time</th>\n",
       "      <th>param_model__max_depth</th>\n",
       "      <th>param_model__n_estimators</th>\n",
       "      <th>params</th>\n",
       "      <th>split0_test_score</th>\n",
       "      <th>split1_test_score</th>\n",
       "      <th>split2_test_score</th>\n",
       "      <th>split3_test_score</th>\n",
       "      <th>split4_test_score</th>\n",
       "      <th>mean_test_score</th>\n",
       "      <th>std_test_score</th>\n",
       "      <th>rank_test_score</th>\n",
       "    </tr>\n",
       "  </thead>\n",
       "  <tbody>\n",
       "    <tr>\n",
       "      <th>0</th>\n",
       "      <td>1.013488</td>\n",
       "      <td>0.024031</td>\n",
       "      <td>0.023537</td>\n",
       "      <td>0.002932</td>\n",
       "      <td>3</td>\n",
       "      <td>10</td>\n",
       "      <td>{'model__max_depth': 3, 'model__n_estimators':...</td>\n",
       "      <td>0.604124</td>\n",
       "      <td>0.644769</td>\n",
       "      <td>0.663477</td>\n",
       "      <td>0.663242</td>\n",
       "      <td>0.662103</td>\n",
       "      <td>0.647543</td>\n",
       "      <td>0.022827</td>\n",
       "      <td>12</td>\n",
       "    </tr>\n",
       "    <tr>\n",
       "      <th>1</th>\n",
       "      <td>6.624079</td>\n",
       "      <td>0.107570</td>\n",
       "      <td>0.051463</td>\n",
       "      <td>0.005904</td>\n",
       "      <td>3</td>\n",
       "      <td>100</td>\n",
       "      <td>{'model__max_depth': 3, 'model__n_estimators':...</td>\n",
       "      <td>0.613899</td>\n",
       "      <td>0.692917</td>\n",
       "      <td>0.742060</td>\n",
       "      <td>0.740978</td>\n",
       "      <td>0.735592</td>\n",
       "      <td>0.705089</td>\n",
       "      <td>0.049090</td>\n",
       "      <td>10</td>\n",
       "    </tr>\n",
       "    <tr>\n",
       "      <th>2</th>\n",
       "      <td>26.409751</td>\n",
       "      <td>9.590178</td>\n",
       "      <td>0.173537</td>\n",
       "      <td>0.033786</td>\n",
       "      <td>3</td>\n",
       "      <td>300</td>\n",
       "      <td>{'model__max_depth': 3, 'model__n_estimators':...</td>\n",
       "      <td>0.620105</td>\n",
       "      <td>0.730416</td>\n",
       "      <td>0.818326</td>\n",
       "      <td>0.817840</td>\n",
       "      <td>0.813938</td>\n",
       "      <td>0.760125</td>\n",
       "      <td>0.077592</td>\n",
       "      <td>8</td>\n",
       "    </tr>\n",
       "    <tr>\n",
       "      <th>3</th>\n",
       "      <td>1.836486</td>\n",
       "      <td>0.349521</td>\n",
       "      <td>0.027726</td>\n",
       "      <td>0.003533</td>\n",
       "      <td>5</td>\n",
       "      <td>10</td>\n",
       "      <td>{'model__max_depth': 5, 'model__n_estimators':...</td>\n",
       "      <td>0.607247</td>\n",
       "      <td>0.667653</td>\n",
       "      <td>0.705113</td>\n",
       "      <td>0.704158</td>\n",
       "      <td>0.698177</td>\n",
       "      <td>0.676470</td>\n",
       "      <td>0.037223</td>\n",
       "      <td>11</td>\n",
       "    </tr>\n",
       "    <tr>\n",
       "      <th>4</th>\n",
       "      <td>28.057346</td>\n",
       "      <td>4.772515</td>\n",
       "      <td>0.115491</td>\n",
       "      <td>0.027721</td>\n",
       "      <td>5</td>\n",
       "      <td>100</td>\n",
       "      <td>{'model__max_depth': 5, 'model__n_estimators':...</td>\n",
       "      <td>0.629541</td>\n",
       "      <td>0.744443</td>\n",
       "      <td>0.856033</td>\n",
       "      <td>0.857138</td>\n",
       "      <td>0.852737</td>\n",
       "      <td>0.787978</td>\n",
       "      <td>0.090118</td>\n",
       "      <td>7</td>\n",
       "    </tr>\n",
       "    <tr>\n",
       "      <th>5</th>\n",
       "      <td>38.437577</td>\n",
       "      <td>4.227224</td>\n",
       "      <td>0.214627</td>\n",
       "      <td>0.014621</td>\n",
       "      <td>5</td>\n",
       "      <td>300</td>\n",
       "      <td>{'model__max_depth': 5, 'model__n_estimators':...</td>\n",
       "      <td>0.634832</td>\n",
       "      <td>0.768728</td>\n",
       "      <td>0.898399</td>\n",
       "      <td>0.898916</td>\n",
       "      <td>0.897005</td>\n",
       "      <td>0.819576</td>\n",
       "      <td>0.105090</td>\n",
       "      <td>5</td>\n",
       "    </tr>\n",
       "    <tr>\n",
       "      <th>6</th>\n",
       "      <td>2.379832</td>\n",
       "      <td>0.216134</td>\n",
       "      <td>0.028525</td>\n",
       "      <td>0.002570</td>\n",
       "      <td>8</td>\n",
       "      <td>10</td>\n",
       "      <td>{'model__max_depth': 8, 'model__n_estimators':...</td>\n",
       "      <td>0.627431</td>\n",
       "      <td>0.710562</td>\n",
       "      <td>0.767350</td>\n",
       "      <td>0.768181</td>\n",
       "      <td>0.768368</td>\n",
       "      <td>0.728379</td>\n",
       "      <td>0.055154</td>\n",
       "      <td>9</td>\n",
       "    </tr>\n",
       "    <tr>\n",
       "      <th>7</th>\n",
       "      <td>19.999499</td>\n",
       "      <td>2.940738</td>\n",
       "      <td>0.124667</td>\n",
       "      <td>0.003025</td>\n",
       "      <td>8</td>\n",
       "      <td>100</td>\n",
       "      <td>{'model__max_depth': 8, 'model__n_estimators':...</td>\n",
       "      <td>0.647659</td>\n",
       "      <td>0.777701</td>\n",
       "      <td>0.906808</td>\n",
       "      <td>0.910029</td>\n",
       "      <td>0.904686</td>\n",
       "      <td>0.829377</td>\n",
       "      <td>0.103792</td>\n",
       "      <td>4</td>\n",
       "    </tr>\n",
       "    <tr>\n",
       "      <th>8</th>\n",
       "      <td>65.565805</td>\n",
       "      <td>5.943780</td>\n",
       "      <td>0.425662</td>\n",
       "      <td>0.025115</td>\n",
       "      <td>8</td>\n",
       "      <td>300</td>\n",
       "      <td>{'model__max_depth': 8, 'model__n_estimators':...</td>\n",
       "      <td>0.646264</td>\n",
       "      <td>0.782096</td>\n",
       "      <td>0.918303</td>\n",
       "      <td>0.924691</td>\n",
       "      <td>0.919797</td>\n",
       "      <td>0.838230</td>\n",
       "      <td>0.110039</td>\n",
       "      <td>3</td>\n",
       "    </tr>\n",
       "    <tr>\n",
       "      <th>9</th>\n",
       "      <td>4.748894</td>\n",
       "      <td>0.379389</td>\n",
       "      <td>0.039096</td>\n",
       "      <td>0.001323</td>\n",
       "      <td>15</td>\n",
       "      <td>10</td>\n",
       "      <td>{'model__max_depth': 15, 'model__n_estimators'...</td>\n",
       "      <td>0.676544</td>\n",
       "      <td>0.766455</td>\n",
       "      <td>0.871123</td>\n",
       "      <td>0.877426</td>\n",
       "      <td>0.868011</td>\n",
       "      <td>0.811912</td>\n",
       "      <td>0.079166</td>\n",
       "      <td>6</td>\n",
       "    </tr>\n",
       "    <tr>\n",
       "      <th>10</th>\n",
       "      <td>62.943349</td>\n",
       "      <td>21.788761</td>\n",
       "      <td>0.713837</td>\n",
       "      <td>0.269474</td>\n",
       "      <td>15</td>\n",
       "      <td>100</td>\n",
       "      <td>{'model__max_depth': 15, 'model__n_estimators'...</td>\n",
       "      <td>0.673436</td>\n",
       "      <td>0.790348</td>\n",
       "      <td>0.923475</td>\n",
       "      <td>0.929643</td>\n",
       "      <td>0.922257</td>\n",
       "      <td>0.847832</td>\n",
       "      <td>0.101659</td>\n",
       "      <td>1</td>\n",
       "    </tr>\n",
       "    <tr>\n",
       "      <th>11</th>\n",
       "      <td>193.886984</td>\n",
       "      <td>28.359506</td>\n",
       "      <td>3.132565</td>\n",
       "      <td>0.219795</td>\n",
       "      <td>15</td>\n",
       "      <td>300</td>\n",
       "      <td>{'model__max_depth': 15, 'model__n_estimators'...</td>\n",
       "      <td>0.660407</td>\n",
       "      <td>0.783309</td>\n",
       "      <td>0.922081</td>\n",
       "      <td>0.928248</td>\n",
       "      <td>0.920052</td>\n",
       "      <td>0.842820</td>\n",
       "      <td>0.106171</td>\n",
       "      <td>2</td>\n",
       "    </tr>\n",
       "  </tbody>\n",
       "</table>\n",
       "</div>"
      ],
      "text/plain": [
       "    mean_fit_time  std_fit_time  mean_score_time  std_score_time  \\\n",
       "0        1.013488      0.024031         0.023537        0.002932   \n",
       "1        6.624079      0.107570         0.051463        0.005904   \n",
       "2       26.409751      9.590178         0.173537        0.033786   \n",
       "3        1.836486      0.349521         0.027726        0.003533   \n",
       "4       28.057346      4.772515         0.115491        0.027721   \n",
       "5       38.437577      4.227224         0.214627        0.014621   \n",
       "6        2.379832      0.216134         0.028525        0.002570   \n",
       "7       19.999499      2.940738         0.124667        0.003025   \n",
       "8       65.565805      5.943780         0.425662        0.025115   \n",
       "9        4.748894      0.379389         0.039096        0.001323   \n",
       "10      62.943349     21.788761         0.713837        0.269474   \n",
       "11     193.886984     28.359506         3.132565        0.219795   \n",
       "\n",
       "   param_model__max_depth param_model__n_estimators  \\\n",
       "0                       3                        10   \n",
       "1                       3                       100   \n",
       "2                       3                       300   \n",
       "3                       5                        10   \n",
       "4                       5                       100   \n",
       "5                       5                       300   \n",
       "6                       8                        10   \n",
       "7                       8                       100   \n",
       "8                       8                       300   \n",
       "9                      15                        10   \n",
       "10                     15                       100   \n",
       "11                     15                       300   \n",
       "\n",
       "                                               params  split0_test_score  \\\n",
       "0   {'model__max_depth': 3, 'model__n_estimators':...           0.604124   \n",
       "1   {'model__max_depth': 3, 'model__n_estimators':...           0.613899   \n",
       "2   {'model__max_depth': 3, 'model__n_estimators':...           0.620105   \n",
       "3   {'model__max_depth': 5, 'model__n_estimators':...           0.607247   \n",
       "4   {'model__max_depth': 5, 'model__n_estimators':...           0.629541   \n",
       "5   {'model__max_depth': 5, 'model__n_estimators':...           0.634832   \n",
       "6   {'model__max_depth': 8, 'model__n_estimators':...           0.627431   \n",
       "7   {'model__max_depth': 8, 'model__n_estimators':...           0.647659   \n",
       "8   {'model__max_depth': 8, 'model__n_estimators':...           0.646264   \n",
       "9   {'model__max_depth': 15, 'model__n_estimators'...           0.676544   \n",
       "10  {'model__max_depth': 15, 'model__n_estimators'...           0.673436   \n",
       "11  {'model__max_depth': 15, 'model__n_estimators'...           0.660407   \n",
       "\n",
       "    split1_test_score  split2_test_score  split3_test_score  \\\n",
       "0            0.644769           0.663477           0.663242   \n",
       "1            0.692917           0.742060           0.740978   \n",
       "2            0.730416           0.818326           0.817840   \n",
       "3            0.667653           0.705113           0.704158   \n",
       "4            0.744443           0.856033           0.857138   \n",
       "5            0.768728           0.898399           0.898916   \n",
       "6            0.710562           0.767350           0.768181   \n",
       "7            0.777701           0.906808           0.910029   \n",
       "8            0.782096           0.918303           0.924691   \n",
       "9            0.766455           0.871123           0.877426   \n",
       "10           0.790348           0.923475           0.929643   \n",
       "11           0.783309           0.922081           0.928248   \n",
       "\n",
       "    split4_test_score  mean_test_score  std_test_score  rank_test_score  \n",
       "0            0.662103         0.647543        0.022827               12  \n",
       "1            0.735592         0.705089        0.049090               10  \n",
       "2            0.813938         0.760125        0.077592                8  \n",
       "3            0.698177         0.676470        0.037223               11  \n",
       "4            0.852737         0.787978        0.090118                7  \n",
       "5            0.897005         0.819576        0.105090                5  \n",
       "6            0.768368         0.728379        0.055154                9  \n",
       "7            0.904686         0.829377        0.103792                4  \n",
       "8            0.919797         0.838230        0.110039                3  \n",
       "9            0.868011         0.811912        0.079166                6  \n",
       "10           0.922257         0.847832        0.101659                1  \n",
       "11           0.920052         0.842820        0.106171                2  "
      ]
     },
     "execution_count": 790,
     "metadata": {},
     "output_type": "execute_result"
    }
   ],
   "source": [
    "pd.DataFrame(grid.cv_results_)"
   ]
  },
  {
   "cell_type": "code",
   "execution_count": null,
   "metadata": {},
   "outputs": [],
   "source": []
  },
  {
   "cell_type": "code",
   "execution_count": 788,
   "metadata": {},
   "outputs": [
    {
     "data": {
      "text/plain": [
       "array([0.64754277, 0.70508913, 0.76012488, 0.67646959, 0.78797833,\n",
       "       0.81957606, 0.72837853, 0.82937671, 0.8382303 , 0.81191193,\n",
       "       0.8478318 , 0.8428196 ])"
      ]
     },
     "execution_count": 788,
     "metadata": {},
     "output_type": "execute_result"
    }
   ],
   "source": [
    "grid.cv_results_['mean_test_score']"
   ]
  },
  {
   "cell_type": "code",
   "execution_count": null,
   "metadata": {},
   "outputs": [],
   "source": []
  },
  {
   "cell_type": "code",
   "execution_count": 796,
   "metadata": {},
   "outputs": [],
   "source": [
    "# Applying best params to XGBoost with SMOTE Data\n",
    "\n",
    "xgb_clf = xgb.XGBClassifier(max_depth=15, n_estimators=100)"
   ]
  },
  {
   "cell_type": "code",
   "execution_count": 797,
   "metadata": {},
   "outputs": [],
   "source": [
    "xgb_model = xgb_clf.fit(X_train_smoted2, y_train_smoted2)"
   ]
  },
  {
   "cell_type": "code",
   "execution_count": 798,
   "metadata": {},
   "outputs": [],
   "source": [
    "xgb_pred2 = xgb_model.predict(X_test.values)"
   ]
  },
  {
   "cell_type": "code",
   "execution_count": 799,
   "metadata": {},
   "outputs": [
    {
     "name": "stdout",
     "output_type": "stream",
     "text": [
      "Accuracy score is: 0.6610369496275537\n",
      "---\n",
      "F1 score is: 0.32728337236533955\n",
      "Precision score is: 0.3086692435118719\n",
      "Recall score is: 0.3482866043613707\n"
     ]
    }
   ],
   "source": [
    "scoring(y_test, xgb_pred2)"
   ]
  },
  {
   "cell_type": "code",
   "execution_count": 800,
   "metadata": {},
   "outputs": [
    {
     "data": {
      "image/png": "[encoded data removed]",
      "text/plain": [
       "<Figure size 432x288 with 2 Axes>"
      ]
     },
     "metadata": {
      "needs_background": "light"
     },
     "output_type": "display_data"
    }
   ],
   "source": [
    "plot_confusion_matrix(xgb_model, X_test.values, y_test.values)  \n",
    "plt.show()"
   ]
  },
  {
   "cell_type": "code",
   "execution_count": null,
   "metadata": {},
   "outputs": [],
   "source": []
  },
  {
   "cell_type": "markdown",
   "metadata": {},
   "source": [
    "Results Analysis: Random Forests is the Winning Model\n",
    "--\n",
    "\n",
    "Key Insights:\n",
    "\n",
    "- Hyperparameter Tuning / GridSearchCV used\n",
    "- Highest Recall score achieved (0.70), but Precision score suffered (0.29)\n",
    "- Feature of most importance: 'Not Reported' Call Type\n",
    "- Because this feature fails to reveal much, more insights are needed\n",
    "- However, the data is showing that the Call Type has the strongest influence on whether someone is frisked"
   ]
  },
  {
   "cell_type": "markdown",
   "metadata": {},
   "source": [
    "Overall Conclusion + Recommendation:\n",
    "--\n",
    "\n",
    "- The dataset features did not prove effective in achieving acceptable model performance\n",
    "- Over + Under sampling of dataset with SMOTE data is recommended, based on difficulties with Precision and F1 scores\n",
    "- Generally: increase in True Positives gave way to increase in False Positives\n",
    "- It cannot be concluded at the moment that there is \"Frisk\" bias with this Terry stop data"
   ]
  },
  {
   "cell_type": "code",
   "execution_count": null,
   "metadata": {},
   "outputs": [],
   "source": []
  }
 ],
 "metadata": {
  "kernelspec": {
   "display_name": "Python 3",
   "language": "python",
   "name": "python3"
  },
  "language_info": {
   "codemirror_mode": {
    "name": "ipython",
    "version": 3
   },
   "file_extension": ".py",
   "mimetype": "text/x-python",
   "name": "python",
   "nbconvert_exporter": "python",
   "pygments_lexer": "ipython3",
   "version": "3.6.12"
  }
 },
 "nbformat": 4,
 "nbformat_minor": 4
}
